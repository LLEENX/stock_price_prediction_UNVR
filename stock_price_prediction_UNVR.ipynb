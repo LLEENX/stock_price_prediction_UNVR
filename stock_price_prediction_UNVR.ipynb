{
  "nbformat": 4,
  "nbformat_minor": 0,
  "metadata": {
    "colab": {
      "provenance": [],
      "gpuType": "T4"
    },
    "kernelspec": {
      "name": "python3",
      "display_name": "Python 3"
    },
    "language_info": {
      "name": "python"
    },
    "accelerator": "GPU"
  },
  "cells": [
    {
      "cell_type": "markdown",
      "source": [
        "# **📈 Prediksi Harga Saham PT Unilever Indonesia (UNVR) Menggunakan LSTM**\n",
        "\n",
        "Proyek ini merupakan bagian dari submission kelas Machine Learning di Dicoding. Tujuan utama dari proyek ini adalah membangun model prediktif yang dapat meramalkan harga saham PT Unilever Indonesia Tbk (kode saham: UNVR.JK) berdasarkan data historis.\n",
        "\n",
        "Model yang digunakan adalah Long Short-Term Memory (LSTM), salah satu arsitektur jaringan saraf yang sangat efektif untuk data runtun waktu (time series).\n",
        "\n",
        "Dataset diambil dari Yahoo Finance menggunakan library `yfinance`, dan mencakup data harga harian dari tahun 2010 hingga Juni 2025, dengan jumlah data lebih dari 500 baris (minimal sesuai syarat).\n"
      ],
      "metadata": {
        "id": "legaggZoRqNO"
      }
    },
    {
      "cell_type": "markdown",
      "source": [
        "## **📦 Import Library yang Diperlukan**\n",
        "\n",
        "Pada bagian ini, saya mengimpor seluruh pustaka Python yang akan digunakan selama proyek ini berlangsung:\n",
        "\n",
        "- `pandas`: untuk memuat dan memanipulasi data tabular.\n",
        "- `numpy`: untuk operasi numerik, terutama pada array dan matriks.\n",
        "- `matplotlib.pyplot`: untuk visualisasi grafik harga saham.\n",
        "- `MinMaxScaler`: untuk melakukan normalisasi data sebelum masuk ke model LSTM.\n",
        "- `Sequential`, `LSTM`, `Dense`: komponen dari Keras (TensorFlow) untuk membangun dan melatih model LSTM.\n",
        "- `mean_squared_error`, `mean_absolute_error`: metrik evaluasi model prediksi regresi.\n",
        "- `yfinance`: untuk mengunduh data saham langsung dari Yahoo Finance."
      ],
      "metadata": {
        "id": "lusi_9clRx9w"
      }
    },
    {
      "cell_type": "code",
      "execution_count": 2,
      "metadata": {
        "id": "lrEvszmjQmcS"
      },
      "outputs": [],
      "source": [
        "import pandas as pd\n",
        "import matplotlib.pyplot as plt\n",
        "import numpy as np\n",
        "from sklearn.preprocessing import MinMaxScaler\n",
        "from sklearn.metrics import mean_squared_error, mean_absolute_error\n",
        "from tensorflow.keras.models import Sequential\n",
        "from tensorflow.keras.layers import LSTM, Dense\n",
        "import yfinance as yf"
      ]
    },
    {
      "cell_type": "markdown",
      "source": [
        "# **Data Preparation**"
      ],
      "metadata": {
        "id": "VJQKdSg8UlqP"
      }
    },
    {
      "cell_type": "markdown",
      "source": [
        "## **📥 Mengunduh Dataset Saham UNVR**\n",
        "\n",
        "Dataset diambil langsung dari Yahoo Finance menggunakan library `yfinance`. Data yang diambil adalah harga saham harian PT Unilever Indonesia (UNVR.JK) sejak 1 Januari 2010 hingga 24 Juni 2025.\n",
        "\n",
        "Hal ini untuk memastikan bahwa jumlah sampel data mencukupi (lebih dari 500 baris), sesuai dengan kriteria submission.\n",
        "\n",
        "Kolom yang tersedia dalam data:\n",
        "- **Open**: Harga saat pembukaan pasar\n",
        "- **High**: Harga tertinggi dalam satu hari\n",
        "- **Low**: Harga terendah\n",
        "- **Close**: Harga saat penutupan pasar\n",
        "- **Adj Close**: Harga yang sudah disesuaikan dengan pembagian dividen atau stock split\n",
        "- **Volume**: Jumlah saham yang diperdagangkan pada hari tersebut"
      ],
      "metadata": {
        "id": "dVaWb5O5TGHL"
      }
    },
    {
      "cell_type": "code",
      "source": [
        "# Unduh data saham dari Yahoo Finance\n",
        "data = yf.download('UNVR.JK', start='2010-01-01', end='2025-06-24')\n",
        "\n",
        "# Tampilkan 5 baris pertama\n",
        "data.head()"
      ],
      "metadata": {
        "colab": {
          "base_uri": "https://localhost:8080/",
          "height": 321
        },
        "id": "4mmdpRDtTKN1",
        "outputId": "fc8b9b71-d3db-45a6-c8ca-24224402dd7e"
      },
      "execution_count": 3,
      "outputs": [
        {
          "output_type": "stream",
          "name": "stderr",
          "text": [
            "/tmp/ipython-input-3-79541730.py:2: FutureWarning: YF.download() has changed argument auto_adjust default to True\n",
            "  data = yf.download('UNVR.JK', start='2010-01-01', end='2025-06-24')\n",
            "[*********************100%***********************]  1 of 1 completed\n"
          ]
        },
        {
          "output_type": "execute_result",
          "data": {
            "text/plain": [
              "Price             Close         High          Low         Open   Volume\n",
              "Ticker          UNVR.JK      UNVR.JK      UNVR.JK      UNVR.JK  UNVR.JK\n",
              "Date                                                                   \n",
              "2010-01-04  1428.029785  1434.491458  1428.029785  1428.029785  5952500\n",
              "2010-01-05  1473.261108  1479.722780  1434.491079  1473.261108       20\n",
              "2010-01-06  1460.337402  1479.722412  1447.414062  1460.337402       20\n",
              "2010-01-07  1434.491333  1460.338024  1428.029660  1434.491333       20\n",
              "2010-01-08  1440.952881  1440.952881  1415.106192  1440.952881       20"
            ],
            "text/html": [
              "\n",
              "  <div id=\"df-ad9aa9df-7d29-461d-9cbf-297176d8039f\" class=\"colab-df-container\">\n",
              "    <div>\n",
              "<style scoped>\n",
              "    .dataframe tbody tr th:only-of-type {\n",
              "        vertical-align: middle;\n",
              "    }\n",
              "\n",
              "    .dataframe tbody tr th {\n",
              "        vertical-align: top;\n",
              "    }\n",
              "\n",
              "    .dataframe thead tr th {\n",
              "        text-align: left;\n",
              "    }\n",
              "\n",
              "    .dataframe thead tr:last-of-type th {\n",
              "        text-align: right;\n",
              "    }\n",
              "</style>\n",
              "<table border=\"1\" class=\"dataframe\">\n",
              "  <thead>\n",
              "    <tr>\n",
              "      <th>Price</th>\n",
              "      <th>Close</th>\n",
              "      <th>High</th>\n",
              "      <th>Low</th>\n",
              "      <th>Open</th>\n",
              "      <th>Volume</th>\n",
              "    </tr>\n",
              "    <tr>\n",
              "      <th>Ticker</th>\n",
              "      <th>UNVR.JK</th>\n",
              "      <th>UNVR.JK</th>\n",
              "      <th>UNVR.JK</th>\n",
              "      <th>UNVR.JK</th>\n",
              "      <th>UNVR.JK</th>\n",
              "    </tr>\n",
              "    <tr>\n",
              "      <th>Date</th>\n",
              "      <th></th>\n",
              "      <th></th>\n",
              "      <th></th>\n",
              "      <th></th>\n",
              "      <th></th>\n",
              "    </tr>\n",
              "  </thead>\n",
              "  <tbody>\n",
              "    <tr>\n",
              "      <th>2010-01-04</th>\n",
              "      <td>1428.029785</td>\n",
              "      <td>1434.491458</td>\n",
              "      <td>1428.029785</td>\n",
              "      <td>1428.029785</td>\n",
              "      <td>5952500</td>\n",
              "    </tr>\n",
              "    <tr>\n",
              "      <th>2010-01-05</th>\n",
              "      <td>1473.261108</td>\n",
              "      <td>1479.722780</td>\n",
              "      <td>1434.491079</td>\n",
              "      <td>1473.261108</td>\n",
              "      <td>20</td>\n",
              "    </tr>\n",
              "    <tr>\n",
              "      <th>2010-01-06</th>\n",
              "      <td>1460.337402</td>\n",
              "      <td>1479.722412</td>\n",
              "      <td>1447.414062</td>\n",
              "      <td>1460.337402</td>\n",
              "      <td>20</td>\n",
              "    </tr>\n",
              "    <tr>\n",
              "      <th>2010-01-07</th>\n",
              "      <td>1434.491333</td>\n",
              "      <td>1460.338024</td>\n",
              "      <td>1428.029660</td>\n",
              "      <td>1434.491333</td>\n",
              "      <td>20</td>\n",
              "    </tr>\n",
              "    <tr>\n",
              "      <th>2010-01-08</th>\n",
              "      <td>1440.952881</td>\n",
              "      <td>1440.952881</td>\n",
              "      <td>1415.106192</td>\n",
              "      <td>1440.952881</td>\n",
              "      <td>20</td>\n",
              "    </tr>\n",
              "  </tbody>\n",
              "</table>\n",
              "</div>\n",
              "    <div class=\"colab-df-buttons\">\n",
              "\n",
              "  <div class=\"colab-df-container\">\n",
              "    <button class=\"colab-df-convert\" onclick=\"convertToInteractive('df-ad9aa9df-7d29-461d-9cbf-297176d8039f')\"\n",
              "            title=\"Convert this dataframe to an interactive table.\"\n",
              "            style=\"display:none;\">\n",
              "\n",
              "  <svg xmlns=\"http://www.w3.org/2000/svg\" height=\"24px\" viewBox=\"0 -960 960 960\">\n",
              "    <path d=\"M120-120v-720h720v720H120Zm60-500h600v-160H180v160Zm220 220h160v-160H400v160Zm0 220h160v-160H400v160ZM180-400h160v-160H180v160Zm440 0h160v-160H620v160ZM180-180h160v-160H180v160Zm440 0h160v-160H620v160Z\"/>\n",
              "  </svg>\n",
              "    </button>\n",
              "\n",
              "  <style>\n",
              "    .colab-df-container {\n",
              "      display:flex;\n",
              "      gap: 12px;\n",
              "    }\n",
              "\n",
              "    .colab-df-convert {\n",
              "      background-color: #E8F0FE;\n",
              "      border: none;\n",
              "      border-radius: 50%;\n",
              "      cursor: pointer;\n",
              "      display: none;\n",
              "      fill: #1967D2;\n",
              "      height: 32px;\n",
              "      padding: 0 0 0 0;\n",
              "      width: 32px;\n",
              "    }\n",
              "\n",
              "    .colab-df-convert:hover {\n",
              "      background-color: #E2EBFA;\n",
              "      box-shadow: 0px 1px 2px rgba(60, 64, 67, 0.3), 0px 1px 3px 1px rgba(60, 64, 67, 0.15);\n",
              "      fill: #174EA6;\n",
              "    }\n",
              "\n",
              "    .colab-df-buttons div {\n",
              "      margin-bottom: 4px;\n",
              "    }\n",
              "\n",
              "    [theme=dark] .colab-df-convert {\n",
              "      background-color: #3B4455;\n",
              "      fill: #D2E3FC;\n",
              "    }\n",
              "\n",
              "    [theme=dark] .colab-df-convert:hover {\n",
              "      background-color: #434B5C;\n",
              "      box-shadow: 0px 1px 3px 1px rgba(0, 0, 0, 0.15);\n",
              "      filter: drop-shadow(0px 1px 2px rgba(0, 0, 0, 0.3));\n",
              "      fill: #FFFFFF;\n",
              "    }\n",
              "  </style>\n",
              "\n",
              "    <script>\n",
              "      const buttonEl =\n",
              "        document.querySelector('#df-ad9aa9df-7d29-461d-9cbf-297176d8039f button.colab-df-convert');\n",
              "      buttonEl.style.display =\n",
              "        google.colab.kernel.accessAllowed ? 'block' : 'none';\n",
              "\n",
              "      async function convertToInteractive(key) {\n",
              "        const element = document.querySelector('#df-ad9aa9df-7d29-461d-9cbf-297176d8039f');\n",
              "        const dataTable =\n",
              "          await google.colab.kernel.invokeFunction('convertToInteractive',\n",
              "                                                    [key], {});\n",
              "        if (!dataTable) return;\n",
              "\n",
              "        const docLinkHtml = 'Like what you see? Visit the ' +\n",
              "          '<a target=\"_blank\" href=https://colab.research.google.com/notebooks/data_table.ipynb>data table notebook</a>'\n",
              "          + ' to learn more about interactive tables.';\n",
              "        element.innerHTML = '';\n",
              "        dataTable['output_type'] = 'display_data';\n",
              "        await google.colab.output.renderOutput(dataTable, element);\n",
              "        const docLink = document.createElement('div');\n",
              "        docLink.innerHTML = docLinkHtml;\n",
              "        element.appendChild(docLink);\n",
              "      }\n",
              "    </script>\n",
              "  </div>\n",
              "\n",
              "\n",
              "    <div id=\"df-9482cf42-2843-4e4c-8c51-ccb72ef8d1a0\">\n",
              "      <button class=\"colab-df-quickchart\" onclick=\"quickchart('df-9482cf42-2843-4e4c-8c51-ccb72ef8d1a0')\"\n",
              "                title=\"Suggest charts\"\n",
              "                style=\"display:none;\">\n",
              "\n",
              "<svg xmlns=\"http://www.w3.org/2000/svg\" height=\"24px\"viewBox=\"0 0 24 24\"\n",
              "     width=\"24px\">\n",
              "    <g>\n",
              "        <path d=\"M19 3H5c-1.1 0-2 .9-2 2v14c0 1.1.9 2 2 2h14c1.1 0 2-.9 2-2V5c0-1.1-.9-2-2-2zM9 17H7v-7h2v7zm4 0h-2V7h2v10zm4 0h-2v-4h2v4z\"/>\n",
              "    </g>\n",
              "</svg>\n",
              "      </button>\n",
              "\n",
              "<style>\n",
              "  .colab-df-quickchart {\n",
              "      --bg-color: #E8F0FE;\n",
              "      --fill-color: #1967D2;\n",
              "      --hover-bg-color: #E2EBFA;\n",
              "      --hover-fill-color: #174EA6;\n",
              "      --disabled-fill-color: #AAA;\n",
              "      --disabled-bg-color: #DDD;\n",
              "  }\n",
              "\n",
              "  [theme=dark] .colab-df-quickchart {\n",
              "      --bg-color: #3B4455;\n",
              "      --fill-color: #D2E3FC;\n",
              "      --hover-bg-color: #434B5C;\n",
              "      --hover-fill-color: #FFFFFF;\n",
              "      --disabled-bg-color: #3B4455;\n",
              "      --disabled-fill-color: #666;\n",
              "  }\n",
              "\n",
              "  .colab-df-quickchart {\n",
              "    background-color: var(--bg-color);\n",
              "    border: none;\n",
              "    border-radius: 50%;\n",
              "    cursor: pointer;\n",
              "    display: none;\n",
              "    fill: var(--fill-color);\n",
              "    height: 32px;\n",
              "    padding: 0;\n",
              "    width: 32px;\n",
              "  }\n",
              "\n",
              "  .colab-df-quickchart:hover {\n",
              "    background-color: var(--hover-bg-color);\n",
              "    box-shadow: 0 1px 2px rgba(60, 64, 67, 0.3), 0 1px 3px 1px rgba(60, 64, 67, 0.15);\n",
              "    fill: var(--button-hover-fill-color);\n",
              "  }\n",
              "\n",
              "  .colab-df-quickchart-complete:disabled,\n",
              "  .colab-df-quickchart-complete:disabled:hover {\n",
              "    background-color: var(--disabled-bg-color);\n",
              "    fill: var(--disabled-fill-color);\n",
              "    box-shadow: none;\n",
              "  }\n",
              "\n",
              "  .colab-df-spinner {\n",
              "    border: 2px solid var(--fill-color);\n",
              "    border-color: transparent;\n",
              "    border-bottom-color: var(--fill-color);\n",
              "    animation:\n",
              "      spin 1s steps(1) infinite;\n",
              "  }\n",
              "\n",
              "  @keyframes spin {\n",
              "    0% {\n",
              "      border-color: transparent;\n",
              "      border-bottom-color: var(--fill-color);\n",
              "      border-left-color: var(--fill-color);\n",
              "    }\n",
              "    20% {\n",
              "      border-color: transparent;\n",
              "      border-left-color: var(--fill-color);\n",
              "      border-top-color: var(--fill-color);\n",
              "    }\n",
              "    30% {\n",
              "      border-color: transparent;\n",
              "      border-left-color: var(--fill-color);\n",
              "      border-top-color: var(--fill-color);\n",
              "      border-right-color: var(--fill-color);\n",
              "    }\n",
              "    40% {\n",
              "      border-color: transparent;\n",
              "      border-right-color: var(--fill-color);\n",
              "      border-top-color: var(--fill-color);\n",
              "    }\n",
              "    60% {\n",
              "      border-color: transparent;\n",
              "      border-right-color: var(--fill-color);\n",
              "    }\n",
              "    80% {\n",
              "      border-color: transparent;\n",
              "      border-right-color: var(--fill-color);\n",
              "      border-bottom-color: var(--fill-color);\n",
              "    }\n",
              "    90% {\n",
              "      border-color: transparent;\n",
              "      border-bottom-color: var(--fill-color);\n",
              "    }\n",
              "  }\n",
              "</style>\n",
              "\n",
              "      <script>\n",
              "        async function quickchart(key) {\n",
              "          const quickchartButtonEl =\n",
              "            document.querySelector('#' + key + ' button');\n",
              "          quickchartButtonEl.disabled = true;  // To prevent multiple clicks.\n",
              "          quickchartButtonEl.classList.add('colab-df-spinner');\n",
              "          try {\n",
              "            const charts = await google.colab.kernel.invokeFunction(\n",
              "                'suggestCharts', [key], {});\n",
              "          } catch (error) {\n",
              "            console.error('Error during call to suggestCharts:', error);\n",
              "          }\n",
              "          quickchartButtonEl.classList.remove('colab-df-spinner');\n",
              "          quickchartButtonEl.classList.add('colab-df-quickchart-complete');\n",
              "        }\n",
              "        (() => {\n",
              "          let quickchartButtonEl =\n",
              "            document.querySelector('#df-9482cf42-2843-4e4c-8c51-ccb72ef8d1a0 button');\n",
              "          quickchartButtonEl.style.display =\n",
              "            google.colab.kernel.accessAllowed ? 'block' : 'none';\n",
              "        })();\n",
              "      </script>\n",
              "    </div>\n",
              "\n",
              "    </div>\n",
              "  </div>\n"
            ],
            "application/vnd.google.colaboratory.intrinsic+json": {
              "type": "dataframe",
              "variable_name": "data",
              "summary": "{\n  \"name\": \"data\",\n  \"rows\": 3806,\n  \"fields\": [\n    {\n      \"column\": [\n        \"Date\",\n        \"\"\n      ],\n      \"properties\": {\n        \"dtype\": \"date\",\n        \"min\": \"2010-01-04 00:00:00\",\n        \"max\": \"2025-06-23 00:00:00\",\n        \"num_unique_values\": 3806,\n        \"samples\": [\n          \"2018-03-01 00:00:00\",\n          \"2012-02-21 00:00:00\",\n          \"2011-12-12 00:00:00\"\n        ],\n        \"semantic_type\": \"\",\n        \"description\": \"\"\n      }\n    },\n    {\n      \"column\": [\n        \"Close\",\n        \"UNVR.JK\"\n      ],\n      \"properties\": {\n        \"dtype\": \"number\",\n        \"std\": 1988.355727151648,\n        \"min\": 984.419921875,\n        \"max\": 8706.5849609375,\n        \"num_unique_values\": 2211,\n        \"samples\": [\n          6420.587890625,\n          6807.81103515625,\n          1255.9840087890625\n        ],\n        \"semantic_type\": \"\",\n        \"description\": \"\"\n      }\n    },\n    {\n      \"column\": [\n        \"High\",\n        \"UNVR.JK\"\n      ],\n      \"properties\": {\n        \"dtype\": \"number\",\n        \"std\": 2000.948506728024,\n        \"min\": 1125.051305368406,\n        \"max\": 9049.238487486018,\n        \"num_unique_values\": 3504,\n        \"samples\": [\n          3335.3095193081913,\n          2029.2117932169733,\n          7300.7836601410245\n        ],\n        \"semantic_type\": \"\",\n        \"description\": \"\"\n      }\n    },\n    {\n      \"column\": [\n        \"Low\",\n        \"UNVR.JK\"\n      ],\n      \"properties\": {\n        \"dtype\": \"number\",\n        \"std\": 1973.3315458794618,\n        \"min\": 955.323775499132,\n        \"max\": 8706.5849609375,\n        \"num_unique_values\": 3501,\n        \"samples\": [\n          2135.1766553337193,\n          6521.965274883014,\n          7207.651279994419\n        ],\n        \"semantic_type\": \"\",\n        \"description\": \"\"\n      }\n    },\n    {\n      \"column\": [\n        \"Open\",\n        \"UNVR.JK\"\n      ],\n      \"properties\": {\n        \"dtype\": \"number\",\n        \"std\": 1989.4099027092498,\n        \"min\": 955.323775499132,\n        \"max\": 8749.414320731963,\n        \"num_unique_values\": 3213,\n        \"samples\": [\n          4370.440921213144,\n          4164.475824991862,\n          3233.4404296875\n        ],\n        \"semantic_type\": \"\",\n        \"description\": \"\"\n      }\n    },\n    {\n      \"column\": [\n        \"Volume\",\n        \"UNVR.JK\"\n      ],\n      \"properties\": {\n        \"dtype\": \"number\",\n        \"std\": 21464099,\n        \"min\": 0,\n        \"max\": 785826000,\n        \"num_unique_values\": 3483,\n        \"samples\": [\n          26873400,\n          7393000,\n          6386500\n        ],\n        \"semantic_type\": \"\",\n        \"description\": \"\"\n      }\n    }\n  ]\n}"
            }
          },
          "metadata": {},
          "execution_count": 3
        }
      ]
    },
    {
      "cell_type": "markdown",
      "source": [
        "## **📊 Visualisasi Tren Harga Saham UNVR**\n",
        "\n",
        "Untuk memahami pergerakan harga saham secara umum, dilakukan visualisasi data harga penutupan dari waktu ke waktu. Hal ini penting untuk mengetahui pola naik turun harga serta potensi musiman atau tren jangka panjang.\n"
      ],
      "metadata": {
        "id": "1oLoMd4sTJ2l"
      }
    },
    {
      "cell_type": "code",
      "source": [
        "plt.figure(figsize=(12,6))\n",
        "plt.plot(data['Close'], label='Harga Penutupan (Close)', color='blue')\n",
        "plt.title('Tren Harga Penutupan Saham UNVR')\n",
        "plt.xlabel('Tanggal')\n",
        "plt.ylabel('Harga (IDR)')\n",
        "plt.grid(True)\n",
        "plt.legend()\n",
        "plt.show()"
      ],
      "metadata": {
        "colab": {
          "base_uri": "https://localhost:8080/",
          "height": 564
        },
        "id": "4iAaPk1MTcqD",
        "outputId": "4b29c65d-6076-48e8-8707-62067a38c6ca"
      },
      "execution_count": 4,
      "outputs": [
        {
          "output_type": "display_data",
          "data": {
            "text/plain": [
              "<Figure size 1200x600 with 1 Axes>"
            ],
            "image/png": "[encoded data removed]"
          },
          "metadata": {}
        }
      ]
    },
    {
      "cell_type": "markdown",
      "source": [
        "## **🎯 Seleksi Kolom Target (Close)**\n",
        "\n",
        "Karena tujuan dari proyek ini adalah memprediksi harga penutupan saham, maka kolom yang digunakan sebagai input utama hanyalah kolom `Close`. Kolom lain seperti Open, High, Low dan Volume tidak digunakan dalam model ini.\n"
      ],
      "metadata": {
        "id": "zPAmUi0cTa-D"
      }
    },
    {
      "cell_type": "code",
      "source": [
        "close_prices = data[['Close']]\n",
        "close_prices.head()"
      ],
      "metadata": {
        "colab": {
          "base_uri": "https://localhost:8080/",
          "height": 269
        },
        "id": "aQb0BVygTyXb",
        "outputId": "e815d92d-1aa4-4e11-9dc7-8939d93dfae4"
      },
      "execution_count": 5,
      "outputs": [
        {
          "output_type": "execute_result",
          "data": {
            "text/plain": [
              "Price             Close\n",
              "Ticker          UNVR.JK\n",
              "Date                   \n",
              "2010-01-04  1428.029785\n",
              "2010-01-05  1473.261108\n",
              "2010-01-06  1460.337402\n",
              "2010-01-07  1434.491333\n",
              "2010-01-08  1440.952881"
            ],
            "text/html": [
              "\n",
              "  <div id=\"df-f9831808-3d16-4248-a3a4-b042db6726ac\" class=\"colab-df-container\">\n",
              "    <div>\n",
              "<style scoped>\n",
              "    .dataframe tbody tr th:only-of-type {\n",
              "        vertical-align: middle;\n",
              "    }\n",
              "\n",
              "    .dataframe tbody tr th {\n",
              "        vertical-align: top;\n",
              "    }\n",
              "\n",
              "    .dataframe thead tr th {\n",
              "        text-align: left;\n",
              "    }\n",
              "\n",
              "    .dataframe thead tr:last-of-type th {\n",
              "        text-align: right;\n",
              "    }\n",
              "</style>\n",
              "<table border=\"1\" class=\"dataframe\">\n",
              "  <thead>\n",
              "    <tr>\n",
              "      <th>Price</th>\n",
              "      <th>Close</th>\n",
              "    </tr>\n",
              "    <tr>\n",
              "      <th>Ticker</th>\n",
              "      <th>UNVR.JK</th>\n",
              "    </tr>\n",
              "    <tr>\n",
              "      <th>Date</th>\n",
              "      <th></th>\n",
              "    </tr>\n",
              "  </thead>\n",
              "  <tbody>\n",
              "    <tr>\n",
              "      <th>2010-01-04</th>\n",
              "      <td>1428.029785</td>\n",
              "    </tr>\n",
              "    <tr>\n",
              "      <th>2010-01-05</th>\n",
              "      <td>1473.261108</td>\n",
              "    </tr>\n",
              "    <tr>\n",
              "      <th>2010-01-06</th>\n",
              "      <td>1460.337402</td>\n",
              "    </tr>\n",
              "    <tr>\n",
              "      <th>2010-01-07</th>\n",
              "      <td>1434.491333</td>\n",
              "    </tr>\n",
              "    <tr>\n",
              "      <th>2010-01-08</th>\n",
              "      <td>1440.952881</td>\n",
              "    </tr>\n",
              "  </tbody>\n",
              "</table>\n",
              "</div>\n",
              "    <div class=\"colab-df-buttons\">\n",
              "\n",
              "  <div class=\"colab-df-container\">\n",
              "    <button class=\"colab-df-convert\" onclick=\"convertToInteractive('df-f9831808-3d16-4248-a3a4-b042db6726ac')\"\n",
              "            title=\"Convert this dataframe to an interactive table.\"\n",
              "            style=\"display:none;\">\n",
              "\n",
              "  <svg xmlns=\"http://www.w3.org/2000/svg\" height=\"24px\" viewBox=\"0 -960 960 960\">\n",
              "    <path d=\"M120-120v-720h720v720H120Zm60-500h600v-160H180v160Zm220 220h160v-160H400v160Zm0 220h160v-160H400v160ZM180-400h160v-160H180v160Zm440 0h160v-160H620v160ZM180-180h160v-160H180v160Zm440 0h160v-160H620v160Z\"/>\n",
              "  </svg>\n",
              "    </button>\n",
              "\n",
              "  <style>\n",
              "    .colab-df-container {\n",
              "      display:flex;\n",
              "      gap: 12px;\n",
              "    }\n",
              "\n",
              "    .colab-df-convert {\n",
              "      background-color: #E8F0FE;\n",
              "      border: none;\n",
              "      border-radius: 50%;\n",
              "      cursor: pointer;\n",
              "      display: none;\n",
              "      fill: #1967D2;\n",
              "      height: 32px;\n",
              "      padding: 0 0 0 0;\n",
              "      width: 32px;\n",
              "    }\n",
              "\n",
              "    .colab-df-convert:hover {\n",
              "      background-color: #E2EBFA;\n",
              "      box-shadow: 0px 1px 2px rgba(60, 64, 67, 0.3), 0px 1px 3px 1px rgba(60, 64, 67, 0.15);\n",
              "      fill: #174EA6;\n",
              "    }\n",
              "\n",
              "    .colab-df-buttons div {\n",
              "      margin-bottom: 4px;\n",
              "    }\n",
              "\n",
              "    [theme=dark] .colab-df-convert {\n",
              "      background-color: #3B4455;\n",
              "      fill: #D2E3FC;\n",
              "    }\n",
              "\n",
              "    [theme=dark] .colab-df-convert:hover {\n",
              "      background-color: #434B5C;\n",
              "      box-shadow: 0px 1px 3px 1px rgba(0, 0, 0, 0.15);\n",
              "      filter: drop-shadow(0px 1px 2px rgba(0, 0, 0, 0.3));\n",
              "      fill: #FFFFFF;\n",
              "    }\n",
              "  </style>\n",
              "\n",
              "    <script>\n",
              "      const buttonEl =\n",
              "        document.querySelector('#df-f9831808-3d16-4248-a3a4-b042db6726ac button.colab-df-convert');\n",
              "      buttonEl.style.display =\n",
              "        google.colab.kernel.accessAllowed ? 'block' : 'none';\n",
              "\n",
              "      async function convertToInteractive(key) {\n",
              "        const element = document.querySelector('#df-f9831808-3d16-4248-a3a4-b042db6726ac');\n",
              "        const dataTable =\n",
              "          await google.colab.kernel.invokeFunction('convertToInteractive',\n",
              "                                                    [key], {});\n",
              "        if (!dataTable) return;\n",
              "\n",
              "        const docLinkHtml = 'Like what you see? Visit the ' +\n",
              "          '<a target=\"_blank\" href=https://colab.research.google.com/notebooks/data_table.ipynb>data table notebook</a>'\n",
              "          + ' to learn more about interactive tables.';\n",
              "        element.innerHTML = '';\n",
              "        dataTable['output_type'] = 'display_data';\n",
              "        await google.colab.output.renderOutput(dataTable, element);\n",
              "        const docLink = document.createElement('div');\n",
              "        docLink.innerHTML = docLinkHtml;\n",
              "        element.appendChild(docLink);\n",
              "      }\n",
              "    </script>\n",
              "  </div>\n",
              "\n",
              "\n",
              "    <div id=\"df-c4ca9cdf-1e2b-4a73-bb66-28b8bf4b1c21\">\n",
              "      <button class=\"colab-df-quickchart\" onclick=\"quickchart('df-c4ca9cdf-1e2b-4a73-bb66-28b8bf4b1c21')\"\n",
              "                title=\"Suggest charts\"\n",
              "                style=\"display:none;\">\n",
              "\n",
              "<svg xmlns=\"http://www.w3.org/2000/svg\" height=\"24px\"viewBox=\"0 0 24 24\"\n",
              "     width=\"24px\">\n",
              "    <g>\n",
              "        <path d=\"M19 3H5c-1.1 0-2 .9-2 2v14c0 1.1.9 2 2 2h14c1.1 0 2-.9 2-2V5c0-1.1-.9-2-2-2zM9 17H7v-7h2v7zm4 0h-2V7h2v10zm4 0h-2v-4h2v4z\"/>\n",
              "    </g>\n",
              "</svg>\n",
              "      </button>\n",
              "\n",
              "<style>\n",
              "  .colab-df-quickchart {\n",
              "      --bg-color: #E8F0FE;\n",
              "      --fill-color: #1967D2;\n",
              "      --hover-bg-color: #E2EBFA;\n",
              "      --hover-fill-color: #174EA6;\n",
              "      --disabled-fill-color: #AAA;\n",
              "      --disabled-bg-color: #DDD;\n",
              "  }\n",
              "\n",
              "  [theme=dark] .colab-df-quickchart {\n",
              "      --bg-color: #3B4455;\n",
              "      --fill-color: #D2E3FC;\n",
              "      --hover-bg-color: #434B5C;\n",
              "      --hover-fill-color: #FFFFFF;\n",
              "      --disabled-bg-color: #3B4455;\n",
              "      --disabled-fill-color: #666;\n",
              "  }\n",
              "\n",
              "  .colab-df-quickchart {\n",
              "    background-color: var(--bg-color);\n",
              "    border: none;\n",
              "    border-radius: 50%;\n",
              "    cursor: pointer;\n",
              "    display: none;\n",
              "    fill: var(--fill-color);\n",
              "    height: 32px;\n",
              "    padding: 0;\n",
              "    width: 32px;\n",
              "  }\n",
              "\n",
              "  .colab-df-quickchart:hover {\n",
              "    background-color: var(--hover-bg-color);\n",
              "    box-shadow: 0 1px 2px rgba(60, 64, 67, 0.3), 0 1px 3px 1px rgba(60, 64, 67, 0.15);\n",
              "    fill: var(--button-hover-fill-color);\n",
              "  }\n",
              "\n",
              "  .colab-df-quickchart-complete:disabled,\n",
              "  .colab-df-quickchart-complete:disabled:hover {\n",
              "    background-color: var(--disabled-bg-color);\n",
              "    fill: var(--disabled-fill-color);\n",
              "    box-shadow: none;\n",
              "  }\n",
              "\n",
              "  .colab-df-spinner {\n",
              "    border: 2px solid var(--fill-color);\n",
              "    border-color: transparent;\n",
              "    border-bottom-color: var(--fill-color);\n",
              "    animation:\n",
              "      spin 1s steps(1) infinite;\n",
              "  }\n",
              "\n",
              "  @keyframes spin {\n",
              "    0% {\n",
              "      border-color: transparent;\n",
              "      border-bottom-color: var(--fill-color);\n",
              "      border-left-color: var(--fill-color);\n",
              "    }\n",
              "    20% {\n",
              "      border-color: transparent;\n",
              "      border-left-color: var(--fill-color);\n",
              "      border-top-color: var(--fill-color);\n",
              "    }\n",
              "    30% {\n",
              "      border-color: transparent;\n",
              "      border-left-color: var(--fill-color);\n",
              "      border-top-color: var(--fill-color);\n",
              "      border-right-color: var(--fill-color);\n",
              "    }\n",
              "    40% {\n",
              "      border-color: transparent;\n",
              "      border-right-color: var(--fill-color);\n",
              "      border-top-color: var(--fill-color);\n",
              "    }\n",
              "    60% {\n",
              "      border-color: transparent;\n",
              "      border-right-color: var(--fill-color);\n",
              "    }\n",
              "    80% {\n",
              "      border-color: transparent;\n",
              "      border-right-color: var(--fill-color);\n",
              "      border-bottom-color: var(--fill-color);\n",
              "    }\n",
              "    90% {\n",
              "      border-color: transparent;\n",
              "      border-bottom-color: var(--fill-color);\n",
              "    }\n",
              "  }\n",
              "</style>\n",
              "\n",
              "      <script>\n",
              "        async function quickchart(key) {\n",
              "          const quickchartButtonEl =\n",
              "            document.querySelector('#' + key + ' button');\n",
              "          quickchartButtonEl.disabled = true;  // To prevent multiple clicks.\n",
              "          quickchartButtonEl.classList.add('colab-df-spinner');\n",
              "          try {\n",
              "            const charts = await google.colab.kernel.invokeFunction(\n",
              "                'suggestCharts', [key], {});\n",
              "          } catch (error) {\n",
              "            console.error('Error during call to suggestCharts:', error);\n",
              "          }\n",
              "          quickchartButtonEl.classList.remove('colab-df-spinner');\n",
              "          quickchartButtonEl.classList.add('colab-df-quickchart-complete');\n",
              "        }\n",
              "        (() => {\n",
              "          let quickchartButtonEl =\n",
              "            document.querySelector('#df-c4ca9cdf-1e2b-4a73-bb66-28b8bf4b1c21 button');\n",
              "          quickchartButtonEl.style.display =\n",
              "            google.colab.kernel.accessAllowed ? 'block' : 'none';\n",
              "        })();\n",
              "      </script>\n",
              "    </div>\n",
              "\n",
              "    </div>\n",
              "  </div>\n"
            ],
            "application/vnd.google.colaboratory.intrinsic+json": {
              "type": "dataframe",
              "variable_name": "close_prices",
              "summary": "{\n  \"name\": \"close_prices\",\n  \"rows\": 3806,\n  \"fields\": [\n    {\n      \"column\": [\n        \"Date\",\n        \"\"\n      ],\n      \"properties\": {\n        \"dtype\": \"date\",\n        \"min\": \"2010-01-04 00:00:00\",\n        \"max\": \"2025-06-23 00:00:00\",\n        \"num_unique_values\": 3806,\n        \"samples\": [\n          \"2018-03-01 00:00:00\",\n          \"2012-02-21 00:00:00\",\n          \"2011-12-12 00:00:00\"\n        ],\n        \"semantic_type\": \"\",\n        \"description\": \"\"\n      }\n    },\n    {\n      \"column\": [\n        \"Close\",\n        \"UNVR.JK\"\n      ],\n      \"properties\": {\n        \"dtype\": \"number\",\n        \"std\": 1988.355727151648,\n        \"min\": 984.419921875,\n        \"max\": 8706.5849609375,\n        \"num_unique_values\": 2211,\n        \"samples\": [\n          6420.587890625,\n          6807.81103515625,\n          1255.9840087890625\n        ],\n        \"semantic_type\": \"\",\n        \"description\": \"\"\n      }\n    }\n  ]\n}"
            }
          },
          "metadata": {},
          "execution_count": 5
        }
      ]
    },
    {
      "cell_type": "markdown",
      "source": [
        "# **Preprocessing**"
      ],
      "metadata": {
        "id": "YZR27eiaUw30"
      }
    },
    {
      "cell_type": "markdown",
      "source": [
        "## **🧹 Normalisasi Data**\n",
        "\n",
        "Sebelum data dimasukkan ke dalam model LSTM, dilakukan proses normalisasi menggunakan `MinMaxScaler` agar semua nilai berada dalam rentang 0 hingga 1. Ini penting agar model neural network bisa belajar secara optimal, karena perbedaan skala data dapat memengaruhi proses pembelajaran."
      ],
      "metadata": {
        "id": "MhJyzpvaT1rj"
      }
    },
    {
      "cell_type": "code",
      "source": [
        "scaler = MinMaxScaler()\n",
        "scaled_data = scaler.fit_transform(close_prices)\n",
        "\n",
        "# Kembalikan ke bentuk DataFrame untuk kemudahan pengolahan selanjutnya\n",
        "scaled_data = pd.DataFrame(scaled_data, columns=['Close'], index=close_prices.index)\n",
        "scaled_data.head()"
      ],
      "metadata": {
        "colab": {
          "base_uri": "https://localhost:8080/",
          "height": 237
        },
        "id": "iGBKI_epT1WD",
        "outputId": "413df1d3-1499-4b36-f74e-8f685e8f6e36"
      },
      "execution_count": 6,
      "outputs": [
        {
          "output_type": "execute_result",
          "data": {
            "text/plain": [
              "               Close\n",
              "Date                \n",
              "2010-01-04  0.057446\n",
              "2010-01-05  0.063304\n",
              "2010-01-06  0.061630\n",
              "2010-01-07  0.058283\n",
              "2010-01-08  0.059120"
            ],
            "text/html": [
              "\n",
              "  <div id=\"df-6990de67-3cf0-4f93-8a4e-782712c380f1\" class=\"colab-df-container\">\n",
              "    <div>\n",
              "<style scoped>\n",
              "    .dataframe tbody tr th:only-of-type {\n",
              "        vertical-align: middle;\n",
              "    }\n",
              "\n",
              "    .dataframe tbody tr th {\n",
              "        vertical-align: top;\n",
              "    }\n",
              "\n",
              "    .dataframe thead th {\n",
              "        text-align: right;\n",
              "    }\n",
              "</style>\n",
              "<table border=\"1\" class=\"dataframe\">\n",
              "  <thead>\n",
              "    <tr style=\"text-align: right;\">\n",
              "      <th></th>\n",
              "      <th>Close</th>\n",
              "    </tr>\n",
              "    <tr>\n",
              "      <th>Date</th>\n",
              "      <th></th>\n",
              "    </tr>\n",
              "  </thead>\n",
              "  <tbody>\n",
              "    <tr>\n",
              "      <th>2010-01-04</th>\n",
              "      <td>0.057446</td>\n",
              "    </tr>\n",
              "    <tr>\n",
              "      <th>2010-01-05</th>\n",
              "      <td>0.063304</td>\n",
              "    </tr>\n",
              "    <tr>\n",
              "      <th>2010-01-06</th>\n",
              "      <td>0.061630</td>\n",
              "    </tr>\n",
              "    <tr>\n",
              "      <th>2010-01-07</th>\n",
              "      <td>0.058283</td>\n",
              "    </tr>\n",
              "    <tr>\n",
              "      <th>2010-01-08</th>\n",
              "      <td>0.059120</td>\n",
              "    </tr>\n",
              "  </tbody>\n",
              "</table>\n",
              "</div>\n",
              "    <div class=\"colab-df-buttons\">\n",
              "\n",
              "  <div class=\"colab-df-container\">\n",
              "    <button class=\"colab-df-convert\" onclick=\"convertToInteractive('df-6990de67-3cf0-4f93-8a4e-782712c380f1')\"\n",
              "            title=\"Convert this dataframe to an interactive table.\"\n",
              "            style=\"display:none;\">\n",
              "\n",
              "  <svg xmlns=\"http://www.w3.org/2000/svg\" height=\"24px\" viewBox=\"0 -960 960 960\">\n",
              "    <path d=\"M120-120v-720h720v720H120Zm60-500h600v-160H180v160Zm220 220h160v-160H400v160Zm0 220h160v-160H400v160ZM180-400h160v-160H180v160Zm440 0h160v-160H620v160ZM180-180h160v-160H180v160Zm440 0h160v-160H620v160Z\"/>\n",
              "  </svg>\n",
              "    </button>\n",
              "\n",
              "  <style>\n",
              "    .colab-df-container {\n",
              "      display:flex;\n",
              "      gap: 12px;\n",
              "    }\n",
              "\n",
              "    .colab-df-convert {\n",
              "      background-color: #E8F0FE;\n",
              "      border: none;\n",
              "      border-radius: 50%;\n",
              "      cursor: pointer;\n",
              "      display: none;\n",
              "      fill: #1967D2;\n",
              "      height: 32px;\n",
              "      padding: 0 0 0 0;\n",
              "      width: 32px;\n",
              "    }\n",
              "\n",
              "    .colab-df-convert:hover {\n",
              "      background-color: #E2EBFA;\n",
              "      box-shadow: 0px 1px 2px rgba(60, 64, 67, 0.3), 0px 1px 3px 1px rgba(60, 64, 67, 0.15);\n",
              "      fill: #174EA6;\n",
              "    }\n",
              "\n",
              "    .colab-df-buttons div {\n",
              "      margin-bottom: 4px;\n",
              "    }\n",
              "\n",
              "    [theme=dark] .colab-df-convert {\n",
              "      background-color: #3B4455;\n",
              "      fill: #D2E3FC;\n",
              "    }\n",
              "\n",
              "    [theme=dark] .colab-df-convert:hover {\n",
              "      background-color: #434B5C;\n",
              "      box-shadow: 0px 1px 3px 1px rgba(0, 0, 0, 0.15);\n",
              "      filter: drop-shadow(0px 1px 2px rgba(0, 0, 0, 0.3));\n",
              "      fill: #FFFFFF;\n",
              "    }\n",
              "  </style>\n",
              "\n",
              "    <script>\n",
              "      const buttonEl =\n",
              "        document.querySelector('#df-6990de67-3cf0-4f93-8a4e-782712c380f1 button.colab-df-convert');\n",
              "      buttonEl.style.display =\n",
              "        google.colab.kernel.accessAllowed ? 'block' : 'none';\n",
              "\n",
              "      async function convertToInteractive(key) {\n",
              "        const element = document.querySelector('#df-6990de67-3cf0-4f93-8a4e-782712c380f1');\n",
              "        const dataTable =\n",
              "          await google.colab.kernel.invokeFunction('convertToInteractive',\n",
              "                                                    [key], {});\n",
              "        if (!dataTable) return;\n",
              "\n",
              "        const docLinkHtml = 'Like what you see? Visit the ' +\n",
              "          '<a target=\"_blank\" href=https://colab.research.google.com/notebooks/data_table.ipynb>data table notebook</a>'\n",
              "          + ' to learn more about interactive tables.';\n",
              "        element.innerHTML = '';\n",
              "        dataTable['output_type'] = 'display_data';\n",
              "        await google.colab.output.renderOutput(dataTable, element);\n",
              "        const docLink = document.createElement('div');\n",
              "        docLink.innerHTML = docLinkHtml;\n",
              "        element.appendChild(docLink);\n",
              "      }\n",
              "    </script>\n",
              "  </div>\n",
              "\n",
              "\n",
              "    <div id=\"df-17195936-1520-40a0-b0a3-43b2728ce916\">\n",
              "      <button class=\"colab-df-quickchart\" onclick=\"quickchart('df-17195936-1520-40a0-b0a3-43b2728ce916')\"\n",
              "                title=\"Suggest charts\"\n",
              "                style=\"display:none;\">\n",
              "\n",
              "<svg xmlns=\"http://www.w3.org/2000/svg\" height=\"24px\"viewBox=\"0 0 24 24\"\n",
              "     width=\"24px\">\n",
              "    <g>\n",
              "        <path d=\"M19 3H5c-1.1 0-2 .9-2 2v14c0 1.1.9 2 2 2h14c1.1 0 2-.9 2-2V5c0-1.1-.9-2-2-2zM9 17H7v-7h2v7zm4 0h-2V7h2v10zm4 0h-2v-4h2v4z\"/>\n",
              "    </g>\n",
              "</svg>\n",
              "      </button>\n",
              "\n",
              "<style>\n",
              "  .colab-df-quickchart {\n",
              "      --bg-color: #E8F0FE;\n",
              "      --fill-color: #1967D2;\n",
              "      --hover-bg-color: #E2EBFA;\n",
              "      --hover-fill-color: #174EA6;\n",
              "      --disabled-fill-color: #AAA;\n",
              "      --disabled-bg-color: #DDD;\n",
              "  }\n",
              "\n",
              "  [theme=dark] .colab-df-quickchart {\n",
              "      --bg-color: #3B4455;\n",
              "      --fill-color: #D2E3FC;\n",
              "      --hover-bg-color: #434B5C;\n",
              "      --hover-fill-color: #FFFFFF;\n",
              "      --disabled-bg-color: #3B4455;\n",
              "      --disabled-fill-color: #666;\n",
              "  }\n",
              "\n",
              "  .colab-df-quickchart {\n",
              "    background-color: var(--bg-color);\n",
              "    border: none;\n",
              "    border-radius: 50%;\n",
              "    cursor: pointer;\n",
              "    display: none;\n",
              "    fill: var(--fill-color);\n",
              "    height: 32px;\n",
              "    padding: 0;\n",
              "    width: 32px;\n",
              "  }\n",
              "\n",
              "  .colab-df-quickchart:hover {\n",
              "    background-color: var(--hover-bg-color);\n",
              "    box-shadow: 0 1px 2px rgba(60, 64, 67, 0.3), 0 1px 3px 1px rgba(60, 64, 67, 0.15);\n",
              "    fill: var(--button-hover-fill-color);\n",
              "  }\n",
              "\n",
              "  .colab-df-quickchart-complete:disabled,\n",
              "  .colab-df-quickchart-complete:disabled:hover {\n",
              "    background-color: var(--disabled-bg-color);\n",
              "    fill: var(--disabled-fill-color);\n",
              "    box-shadow: none;\n",
              "  }\n",
              "\n",
              "  .colab-df-spinner {\n",
              "    border: 2px solid var(--fill-color);\n",
              "    border-color: transparent;\n",
              "    border-bottom-color: var(--fill-color);\n",
              "    animation:\n",
              "      spin 1s steps(1) infinite;\n",
              "  }\n",
              "\n",
              "  @keyframes spin {\n",
              "    0% {\n",
              "      border-color: transparent;\n",
              "      border-bottom-color: var(--fill-color);\n",
              "      border-left-color: var(--fill-color);\n",
              "    }\n",
              "    20% {\n",
              "      border-color: transparent;\n",
              "      border-left-color: var(--fill-color);\n",
              "      border-top-color: var(--fill-color);\n",
              "    }\n",
              "    30% {\n",
              "      border-color: transparent;\n",
              "      border-left-color: var(--fill-color);\n",
              "      border-top-color: var(--fill-color);\n",
              "      border-right-color: var(--fill-color);\n",
              "    }\n",
              "    40% {\n",
              "      border-color: transparent;\n",
              "      border-right-color: var(--fill-color);\n",
              "      border-top-color: var(--fill-color);\n",
              "    }\n",
              "    60% {\n",
              "      border-color: transparent;\n",
              "      border-right-color: var(--fill-color);\n",
              "    }\n",
              "    80% {\n",
              "      border-color: transparent;\n",
              "      border-right-color: var(--fill-color);\n",
              "      border-bottom-color: var(--fill-color);\n",
              "    }\n",
              "    90% {\n",
              "      border-color: transparent;\n",
              "      border-bottom-color: var(--fill-color);\n",
              "    }\n",
              "  }\n",
              "</style>\n",
              "\n",
              "      <script>\n",
              "        async function quickchart(key) {\n",
              "          const quickchartButtonEl =\n",
              "            document.querySelector('#' + key + ' button');\n",
              "          quickchartButtonEl.disabled = true;  // To prevent multiple clicks.\n",
              "          quickchartButtonEl.classList.add('colab-df-spinner');\n",
              "          try {\n",
              "            const charts = await google.colab.kernel.invokeFunction(\n",
              "                'suggestCharts', [key], {});\n",
              "          } catch (error) {\n",
              "            console.error('Error during call to suggestCharts:', error);\n",
              "          }\n",
              "          quickchartButtonEl.classList.remove('colab-df-spinner');\n",
              "          quickchartButtonEl.classList.add('colab-df-quickchart-complete');\n",
              "        }\n",
              "        (() => {\n",
              "          let quickchartButtonEl =\n",
              "            document.querySelector('#df-17195936-1520-40a0-b0a3-43b2728ce916 button');\n",
              "          quickchartButtonEl.style.display =\n",
              "            google.colab.kernel.accessAllowed ? 'block' : 'none';\n",
              "        })();\n",
              "      </script>\n",
              "    </div>\n",
              "\n",
              "    </div>\n",
              "  </div>\n"
            ],
            "application/vnd.google.colaboratory.intrinsic+json": {
              "type": "dataframe",
              "variable_name": "scaled_data",
              "summary": "{\n  \"name\": \"scaled_data\",\n  \"rows\": 3806,\n  \"fields\": [\n    {\n      \"column\": \"Date\",\n      \"properties\": {\n        \"dtype\": \"date\",\n        \"min\": \"2010-01-04 00:00:00\",\n        \"max\": \"2025-06-23 00:00:00\",\n        \"num_unique_values\": 3806,\n        \"samples\": [\n          \"2018-03-01 00:00:00\",\n          \"2012-02-21 00:00:00\",\n          \"2011-12-12 00:00:00\"\n        ],\n        \"semantic_type\": \"\",\n        \"description\": \"\"\n      }\n    },\n    {\n      \"column\": \"Close\",\n      \"properties\": {\n        \"dtype\": \"number\",\n        \"std\": 0.25748682100079073,\n        \"min\": 0.0,\n        \"max\": 1.0,\n        \"num_unique_values\": 2211,\n        \"samples\": [\n          0.7039694102950655,\n          0.7541137859426315,\n          0.03516683281700897\n        ],\n        \"semantic_type\": \"\",\n        \"description\": \"\"\n      }\n    }\n  ]\n}"
            }
          },
          "metadata": {},
          "execution_count": 6
        }
      ]
    },
    {
      "cell_type": "markdown",
      "source": [
        "## **📈 Transformasi ke Format Time Series untuk LSTM**\n",
        "\n",
        "Model LSTM memerlukan data dalam bentuk 3 dimensi: `(samples, timesteps, features)`. Oleh karena itu, digunakan pendekatan sliding window.\n",
        "\n",
        "Di sini digunakan:\n",
        "- `n_past = 60` → model melihat 60 hari terakhir untuk memprediksi hari ke-61\n"
      ],
      "metadata": {
        "id": "9DyiVl6cT_5b"
      }
    },
    {
      "cell_type": "code",
      "source": [
        "X, y = [], []\n",
        "n_past = 60\n",
        "\n",
        "for i in range(n_past, len(scaled_data)):\n",
        "    X.append(scaled_data.iloc[i - n_past:i].values)\n",
        "    y.append(scaled_data.iloc[i].values)\n",
        "\n",
        "X, y = np.array(X), np.array(y)"
      ],
      "metadata": {
        "id": "YC5U8sDST-7X"
      },
      "execution_count": 7,
      "outputs": []
    },
    {
      "cell_type": "markdown",
      "source": [
        "# C**reate Model 🧠**"
      ],
      "metadata": {
        "id": "maPM5tEiVxu8"
      }
    },
    {
      "cell_type": "markdown",
      "source": [
        "### 🛠️ Membuat dan Melatih Model LSTM"
      ],
      "metadata": {
        "id": "5uOvbuZeWToH"
      }
    },
    {
      "cell_type": "markdown",
      "source": [
        "Saya menggunakan model `Sequential` dengan dua lapisan LSTM berurutan. Lapisan pertama memiliki 64 unit dan lapisan kedua 32 unit, diakhiri dengan lapisan Dense berisi satu neuron karena kita memprediksi satu nilai."
      ],
      "metadata": {
        "id": "bB-_puBaV4GM"
      }
    },
    {
      "cell_type": "code",
      "source": [
        "model = Sequential()\n",
        "model.add(LSTM(64, return_sequences=True, input_shape=(X.shape[1], 1)))\n",
        "model.add(LSTM(32))\n",
        "model.add(Dense(1))\n",
        "model.compile(optimizer='adam', loss='mean_squared_error')\n",
        "model.fit(X, y, epochs=20, batch_size=32)"
      ],
      "metadata": {
        "colab": {
          "base_uri": "https://localhost:8080/"
        },
        "id": "ZYu7DoG0Vz8M",
        "outputId": "af8403de-d08c-4ab6-a675-34d40d7a38a1"
      },
      "execution_count": 8,
      "outputs": [
        {
          "output_type": "stream",
          "name": "stderr",
          "text": [
            "/usr/local/lib/python3.11/dist-packages/keras/src/layers/rnn/rnn.py:200: UserWarning: Do not pass an `input_shape`/`input_dim` argument to a layer. When using Sequential models, prefer using an `Input(shape)` object as the first layer in the model instead.\n",
            "  super().__init__(**kwargs)\n"
          ]
        },
        {
          "output_type": "stream",
          "name": "stdout",
          "text": [
            "Epoch 1/20\n",
            "\u001b[1m118/118\u001b[0m \u001b[32m━━━━━━━━━━━━━━━━━━━━\u001b[0m\u001b[37m\u001b[0m \u001b[1m9s\u001b[0m 45ms/step - loss: 0.0458\n",
            "Epoch 2/20\n",
            "\u001b[1m118/118\u001b[0m \u001b[32m━━━━━━━━━━━━━━━━━━━━\u001b[0m\u001b[37m\u001b[0m \u001b[1m10s\u001b[0m 46ms/step - loss: 6.5733e-04\n",
            "Epoch 3/20\n",
            "\u001b[1m118/118\u001b[0m \u001b[32m━━━━━━━━━━━━━━━━━━━━\u001b[0m\u001b[37m\u001b[0m \u001b[1m11s\u001b[0m 50ms/step - loss: 5.6313e-04\n",
            "Epoch 4/20\n",
            "\u001b[1m118/118\u001b[0m \u001b[32m━━━━━━━━━━━━━━━━━━━━\u001b[0m\u001b[37m\u001b[0m \u001b[1m10s\u001b[0m 46ms/step - loss: 5.6456e-04\n",
            "Epoch 5/20\n",
            "\u001b[1m118/118\u001b[0m \u001b[32m━━━━━━━━━━━━━━━━━━━━\u001b[0m\u001b[37m\u001b[0m \u001b[1m11s\u001b[0m 53ms/step - loss: 5.3999e-04\n",
            "Epoch 6/20\n",
            "\u001b[1m118/118\u001b[0m \u001b[32m━━━━━━━━━━━━━━━━━━━━\u001b[0m\u001b[37m\u001b[0m \u001b[1m6s\u001b[0m 47ms/step - loss: 5.0711e-04\n",
            "Epoch 7/20\n",
            "\u001b[1m118/118\u001b[0m \u001b[32m━━━━━━━━━━━━━━━━━━━━\u001b[0m\u001b[37m\u001b[0m \u001b[1m7s\u001b[0m 56ms/step - loss: 4.6411e-04\n",
            "Epoch 8/20\n",
            "\u001b[1m118/118\u001b[0m \u001b[32m━━━━━━━━━━━━━━━━━━━━\u001b[0m\u001b[37m\u001b[0m \u001b[1m9s\u001b[0m 80ms/step - loss: 4.5436e-04\n",
            "Epoch 9/20\n",
            "\u001b[1m118/118\u001b[0m \u001b[32m━━━━━━━━━━━━━━━━━━━━\u001b[0m\u001b[37m\u001b[0m \u001b[1m7s\u001b[0m 54ms/step - loss: 4.7121e-04\n",
            "Epoch 10/20\n",
            "\u001b[1m118/118\u001b[0m \u001b[32m━━━━━━━━━━━━━━━━━━━━\u001b[0m\u001b[37m\u001b[0m \u001b[1m10s\u001b[0m 55ms/step - loss: 4.1409e-04\n",
            "Epoch 11/20\n",
            "\u001b[1m118/118\u001b[0m \u001b[32m━━━━━━━━━━━━━━━━━━━━\u001b[0m\u001b[37m\u001b[0m \u001b[1m11s\u001b[0m 58ms/step - loss: 4.3876e-04\n",
            "Epoch 12/20\n",
            "\u001b[1m118/118\u001b[0m \u001b[32m━━━━━━━━━━━━━━━━━━━━\u001b[0m\u001b[37m\u001b[0m \u001b[1m10s\u001b[0m 55ms/step - loss: 4.3047e-04\n",
            "Epoch 13/20\n",
            "\u001b[1m118/118\u001b[0m \u001b[32m━━━━━━━━━━━━━━━━━━━━\u001b[0m\u001b[37m\u001b[0m \u001b[1m6s\u001b[0m 50ms/step - loss: 3.8392e-04\n",
            "Epoch 14/20\n",
            "\u001b[1m118/118\u001b[0m \u001b[32m━━━━━━━━━━━━━━━━━━━━\u001b[0m\u001b[37m\u001b[0m \u001b[1m11s\u001b[0m 61ms/step - loss: 4.4309e-04\n",
            "Epoch 15/20\n",
            "\u001b[1m118/118\u001b[0m \u001b[32m━━━━━━━━━━━━━━━━━━━━\u001b[0m\u001b[37m\u001b[0m \u001b[1m10s\u001b[0m 56ms/step - loss: 3.6273e-04\n",
            "Epoch 16/20\n",
            "\u001b[1m118/118\u001b[0m \u001b[32m━━━━━━━━━━━━━━━━━━━━\u001b[0m\u001b[37m\u001b[0m \u001b[1m9s\u001b[0m 49ms/step - loss: 3.5724e-04\n",
            "Epoch 17/20\n",
            "\u001b[1m118/118\u001b[0m \u001b[32m━━━━━━━━━━━━━━━━━━━━\u001b[0m\u001b[37m\u001b[0m \u001b[1m11s\u001b[0m 52ms/step - loss: 3.5876e-04\n",
            "Epoch 18/20\n",
            "\u001b[1m118/118\u001b[0m \u001b[32m━━━━━━━━━━━━━━━━━━━━\u001b[0m\u001b[37m\u001b[0m \u001b[1m10s\u001b[0m 49ms/step - loss: 3.4458e-04\n",
            "Epoch 19/20\n",
            "\u001b[1m118/118\u001b[0m \u001b[32m━━━━━━━━━━━━━━━━━━━━\u001b[0m\u001b[37m\u001b[0m \u001b[1m7s\u001b[0m 63ms/step - loss: 3.2911e-04\n",
            "Epoch 20/20\n",
            "\u001b[1m118/118\u001b[0m \u001b[32m━━━━━━━━━━━━━━━━━━━━\u001b[0m\u001b[37m\u001b[0m \u001b[1m6s\u001b[0m 49ms/step - loss: 2.8559e-04\n"
          ]
        },
        {
          "output_type": "execute_result",
          "data": {
            "text/plain": [
              "<keras.src.callbacks.history.History at 0x7cfc71eb6e50>"
            ]
          },
          "metadata": {},
          "execution_count": 8
        }
      ]
    },
    {
      "cell_type": "markdown",
      "source": [
        "# **Prediction 🔮**"
      ],
      "metadata": {
        "id": "xojVTXq6WLAl"
      }
    },
    {
      "cell_type": "markdown",
      "source": [
        "### 🧾 Prediksi Harga 10 Hari ke Depan"
      ],
      "metadata": {
        "id": "RoQw7B9nWPEx"
      }
    },
    {
      "cell_type": "markdown",
      "source": [
        "Setelah model LSTM berhasil dilatih, saya melakukan prediksi harga saham untuk 10 hari ke depan. Proses ini tidak hanya memprediksi satu langkah ke depan, tetapi menggunakan pendekatan *recursive forecasting*, yaitu memprediksi hari pertama, lalu menggunakan prediksi tersebut sebagai input untuk memprediksi hari kedua, dan seterusnya hingga hari ke-10.\n",
        "\n",
        "Langkah-langkahnya sebagai berikut:\n",
        "\n",
        "1. **Ambil 60 Hari Terakhir sebagai Input Awal**  \n",
        "   Saya ambil 60 data terakhir dari dataset `scaled_data`, karena model dilatih dengan menggunakan 60 langkah ke belakang (sliding window). Data ini direstrukturisasi ke bentuk `(1, 60, 1)` karena LSTM membutuhkan input 3 dimensi: `(samples, timesteps, features)`.\n",
        "\n",
        "2. **Lakukan Prediksi Bertahap Selama 10 Hari (Iteratif)**  \n",
        "   - Pada setiap iterasi, saya memprediksi satu nilai (`pred`) berdasarkan input 60 data sebelumnya.\n",
        "   - Nilai prediksi ini ditambahkan ke `future_predictions`.\n",
        "   - Lalu, `future_input` diperbarui dengan menggeser window ke depan: menghapus data paling awal dan menambahkan prediksi baru di akhir.\n",
        "   - Ini dilakukan terus hingga mendapatkan 10 prediksi berturut-turut.\n",
        "\n",
        "3. **Transformasi Kembali ke Skala Asli (Inverse Transform)**  \n",
        "   Nilai prediksi yang dihasilkan masih dalam skala normalisasi (0–1), sehingga perlu dikembalikan ke skala harga sebenarnya menggunakan `scaler.inverse_transform()` agar interpretasi hasil lebih mudah dan bisa dibandingkan langsung dengan harga historis.\n",
        "\n",
        "Dengan pendekatan ini, saya bisa mendapatkan estimasi harga saham UNVR untuk 10 hari mendatang dengan mempertahankan konteks historis 60 hari sebelumnya."
      ],
      "metadata": {
        "id": "tQL9t5UMWB5W"
      }
    },
    {
      "cell_type": "code",
      "source": [
        "last_60_days = scaled_data[-60:]\n",
        "future_input = last_60_days.values.reshape(1, 60, 1)\n",
        "\n",
        "future_predictions = []\n",
        "for _ in range(10):\n",
        "    pred = model.predict(future_input)[0]\n",
        "    future_predictions.append(pred)\n",
        "    future_input = np.append(future_input[:, 1:, :], [[pred]], axis=1)\n",
        "\n",
        "future_predictions = scaler.inverse_transform(future_predictions)"
      ],
      "metadata": {
        "colab": {
          "base_uri": "https://localhost:8080/"
        },
        "id": "fkb6993TWCUT",
        "outputId": "26de3015-0f21-42cb-ae6e-3d2a4ca1ae65"
      },
      "execution_count": 9,
      "outputs": [
        {
          "output_type": "stream",
          "name": "stdout",
          "text": [
            "\u001b[1m1/1\u001b[0m \u001b[32m━━━━━━━━━━━━━━━━━━━━\u001b[0m\u001b[37m\u001b[0m \u001b[1m0s\u001b[0m 314ms/step\n",
            "\u001b[1m1/1\u001b[0m \u001b[32m━━━━━━━━━━━━━━━━━━━━\u001b[0m\u001b[37m\u001b[0m \u001b[1m0s\u001b[0m 42ms/step\n",
            "\u001b[1m1/1\u001b[0m \u001b[32m━━━━━━━━━━━━━━━━━━━━\u001b[0m\u001b[37m\u001b[0m \u001b[1m0s\u001b[0m 43ms/step\n",
            "\u001b[1m1/1\u001b[0m \u001b[32m━━━━━━━━━━━━━━━━━━━━\u001b[0m\u001b[37m\u001b[0m \u001b[1m0s\u001b[0m 43ms/step\n",
            "\u001b[1m1/1\u001b[0m \u001b[32m━━━━━━━━━━━━━━━━━━━━\u001b[0m\u001b[37m\u001b[0m \u001b[1m0s\u001b[0m 41ms/step\n",
            "\u001b[1m1/1\u001b[0m \u001b[32m━━━━━━━━━━━━━━━━━━━━\u001b[0m\u001b[37m\u001b[0m \u001b[1m0s\u001b[0m 42ms/step\n",
            "\u001b[1m1/1\u001b[0m \u001b[32m━━━━━━━━━━━━━━━━━━━━\u001b[0m\u001b[37m\u001b[0m \u001b[1m0s\u001b[0m 43ms/step\n",
            "\u001b[1m1/1\u001b[0m \u001b[32m━━━━━━━━━━━━━━━━━━━━\u001b[0m\u001b[37m\u001b[0m \u001b[1m0s\u001b[0m 45ms/step\n",
            "\u001b[1m1/1\u001b[0m \u001b[32m━━━━━━━━━━━━━━━━━━━━\u001b[0m\u001b[37m\u001b[0m \u001b[1m0s\u001b[0m 41ms/step\n",
            "\u001b[1m1/1\u001b[0m \u001b[32m━━━━━━━━━━━━━━━━━━━━\u001b[0m\u001b[37m\u001b[0m \u001b[1m0s\u001b[0m 48ms/step\n"
          ]
        }
      ]
    },
    {
      "cell_type": "markdown",
      "source": [
        "### **📉 Visualisasi Hasil Prediksi**"
      ],
      "metadata": {
        "id": "wbHZKF_6WYrc"
      }
    },
    {
      "cell_type": "markdown",
      "source": [
        "Selanjutnya adalah memvisualisasikan harga historis 100 hari terakhir bersamaan dengan hasil prediksi 10 hari ke depan. Garis putus-putus berwarna oranye menunjukkan tren hasil prediksi dari model LSTM."
      ],
      "metadata": {
        "id": "EiHWhtZTWdc2"
      }
    },
    {
      "cell_type": "code",
      "source": [
        "# Buat range tanggal untuk 10 hari ke depan\n",
        "future_dates = pd.date_range(start=close_prices.index[-1] + pd.Timedelta(days=1), periods=10)\n",
        "\n",
        "# Gabungkan harga terakhir + hasil prediksi\n",
        "combined_prices = [close_prices.iloc[-1]['Close']] + future_predictions.flatten().tolist()\n",
        "combined_dates = [close_prices.index[-1]] + list(future_dates)\n",
        "\n",
        "# Buat DataFrame hasil prediksi\n",
        "combined_df = pd.DataFrame({'Price': combined_prices}, index=combined_dates)\n",
        "\n",
        "# Visualisasikan\n",
        "plt.figure(figsize=(12,6))\n",
        "plt.plot(close_prices[-100:], label='Historis', color='blue')\n",
        "plt.plot(combined_df, label='Prediksi 10 Hari', color='orange', linestyle='--')\n",
        "plt.title('Prediksi Harga Saham UNVR 10 Hari ke Depan')\n",
        "plt.xlabel('Tanggal')\n",
        "plt.ylabel('Harga (IDR)')\n",
        "plt.legend()\n",
        "plt.grid(True)\n",
        "plt.show()"
      ],
      "metadata": {
        "colab": {
          "base_uri": "https://localhost:8080/",
          "height": 653
        },
        "id": "He8oWe_5WZ30",
        "outputId": "2ea1f6c6-eac6-49da-ae7a-a4a2a88ad839"
      },
      "execution_count": 12,
      "outputs": [
        {
          "output_type": "stream",
          "name": "stderr",
          "text": [
            "/usr/local/lib/python3.11/dist-packages/matplotlib/cbook.py:1709: FutureWarning: Calling float on a single element Series is deprecated and will raise a TypeError in the future. Use float(ser.iloc[0]) instead\n",
            "  return math.isfinite(val)\n",
            "/usr/local/lib/python3.11/dist-packages/matplotlib/cbook.py:1345: FutureWarning: Calling float on a single element Series is deprecated and will raise a TypeError in the future. Use float(ser.iloc[0]) instead\n",
            "  return np.asarray(x, float)\n"
          ]
        },
        {
          "output_type": "display_data",
          "data": {
            "text/plain": [
              "<Figure size 1200x600 with 1 Axes>"
            ],
            "image/png": "[encoded data removed]"
          },
          "metadata": {}
        }
      ]
    },
    {
      "cell_type": "markdown",
      "source": [
        "## **Analysis / Evaluation 📊**"
      ],
      "metadata": {
        "id": "ZHIRlkoZXBQP"
      }
    },
    {
      "cell_type": "markdown",
      "source": [
        "### **🧪 Evaluasi Model**"
      ],
      "metadata": {
        "id": "SC3L4ulzXEud"
      }
    },
    {
      "cell_type": "markdown",
      "source": [
        "Untuk menilai akurasi model, dataset dibagi menjadi 80% data latih dan 20% data uji. Setelah itu, saya prediksi nilai dari data uji dan bandingkan dengan nilai aktual. Beberapa metrik evaluasi yang dihitung, yaitu:\n",
        "- Mean Squared Error (MSE)\n",
        "- Root Mean Squared Error (RMSE)\n",
        "- Mean Absolute Error (MAE)\n",
        "- Mean Absolute Percentage Error (MAPE)"
      ],
      "metadata": {
        "id": "e0FNVcTGXHyI"
      }
    },
    {
      "cell_type": "code",
      "source": [
        "train_size = int(len(scaled_data) * 0.8)\n",
        "test_data = scaled_data[train_size - n_past:]\n",
        "X_test, y_test = [], []\n",
        "\n",
        "for i in range(n_past, len(test_data)):\n",
        "    X_test.append(test_data.iloc[i - n_past:i].values)\n",
        "    y_test.append(test_data.iloc[i].values)\n",
        "\n",
        "X_test, y_test = np.array(X_test), np.array(y_test)\n",
        "predicted_test = model.predict(X_test)\n",
        "\n",
        "predicted_prices = scaler.inverse_transform(predicted_test)\n",
        "actual_prices = scaler.inverse_transform(y_test)\n",
        "\n",
        "mse = mean_squared_error(actual_prices, predicted_prices)\n",
        "rmse = np.sqrt(mse)\n",
        "mae = mean_absolute_error(actual_prices, predicted_prices)\n",
        "mape = np.mean(np.abs((actual_prices - predicted_prices) / actual_prices)) * 100\n",
        "\n",
        "print(f\"\\nHasil Evaluasi Model:\")\n",
        "print(f\"MSE  : {mse:.2f}\")\n",
        "print(f\"RMSE : {rmse:.2f}\")\n",
        "print(f\"MAE  : {mae:.2f}\")\n",
        "print(f\"MAPE : {mape:.2f}%\")"
      ],
      "metadata": {
        "colab": {
          "base_uri": "https://localhost:8080/"
        },
        "id": "rhm3Cg-MXCtE",
        "outputId": "c331797d-af88-4d6c-df6c-c22173a333a6"
      },
      "execution_count": 13,
      "outputs": [
        {
          "output_type": "stream",
          "name": "stdout",
          "text": [
            "\u001b[1m24/24\u001b[0m \u001b[32m━━━━━━━━━━━━━━━━━━━━\u001b[0m\u001b[37m\u001b[0m \u001b[1m1s\u001b[0m 15ms/step\n",
            "\n",
            "Hasil Evaluasi Model:\n",
            "MSE  : 15450.06\n",
            "RMSE : 124.30\n",
            "MAE  : 88.44\n",
            "MAPE : 3.37%\n"
          ]
        }
      ]
    },
    {
      "cell_type": "markdown",
      "source": [
        "Setelah model LSTM saya latih dan diuji menggunakan 20% data terakhir, berikut adalah hasil evaluasi model berdasarkan beberapa metrik umum dalam regresi:\n",
        "\n",
        "- **Mean Squared Error (MSE): 15.450,06**\n",
        "<br>Nilai MSE mengukur rata-rata dari kuadrat selisih antara harga aktual dan harga prediksi. Semakin kecil nilai MSE, semakin baik model dalam memprediksi. Dalam kasus ini, nilai 15 ribuan masih dalam batas wajar untuk data harga saham yang bervariasi.\n",
        "\n",
        "- **Root Mean Squared Error (RMSE): 124,30**\n",
        "<br>RMSE merupakan akar kuadrat dari MSE dan berada pada skala yang sama dengan harga saham (dalam satuan rupiah). Nilai ini menunjukkan bahwa rata-rata kesalahan prediksi model saya sekitar Rp124,30 dari nilai aktual. Ini cukup kecil dibandingkan harga saham UNVR yang biasanya berada di kisaran ribuan rupiah.\n",
        "\n",
        "- **Mean Absolute Error (MAE): 88,44**\n",
        "<br>MAE mengukur rata-rata dari selisih absolut (tanpa tanda) antara prediksi dan nilai aktual. Nilai ini menunjukkan rata-rata deviasi model dari harga sebenarnya adalah sekitar Rp88,44, yang cukup baik dalam konteks prediksi saham harian.\n",
        "\n",
        "- **Mean Absolute Percentage Error (MAPE): 3,37%**\n",
        "<br>MAPE menunjukkan rata-rata kesalahan prediksi dalam bentuk persentase terhadap nilai aktual. Nilai 3,37% mengindikasikan bahwa model saya hanya menyimpang sebesar ±3,37% dari harga sebenarnya. Untuk model time series saham, ini tergolong cukup akurat, terutama untuk data harian yang cenderung fluktuatif.\n",
        "\n",
        "**Kesimpulan:**\n",
        "<br>Dengan nilai MAPE di bawah 5%, model LSTM yang saya bangun dapat dikatakan efektif dalam memprediksi harga penutupan saham UNVR. Meskipun tidak sempurna, model ini menunjukkan tren yang cukup mendekati harga aktual."
      ],
      "metadata": {
        "id": "1vBpB-YfX4pi"
      }
    },
    {
      "cell_type": "markdown",
      "source": [
        "### **📊 Visualisasi Evaluasi**"
      ],
      "metadata": {
        "id": "KGmwx_dEXZQL"
      }
    },
    {
      "cell_type": "markdown",
      "source": [
        "Hasil prediksi selanjutnya dibandingkan dengan data aktul dengan di visualkan ke dalam grafik"
      ],
      "metadata": {
        "id": "EA2bX4ohXf4l"
      }
    },
    {
      "cell_type": "code",
      "source": [
        "plt.figure(figsize=(12,6))\n",
        "plt.plot(test_data.index[n_past:], actual_prices, label='Aktual', color='blue')\n",
        "plt.plot(test_data.index[n_past:], predicted_prices, label='Prediksi', color='orange', linestyle='--')\n",
        "plt.title('Perbandingan Harga Aktual vs Prediksi pada Data Uji')\n",
        "plt.xlabel('Tanggal')\n",
        "plt.ylabel('Harga (IDR)')\n",
        "plt.legend()\n",
        "plt.grid(True)\n",
        "plt.show()"
      ],
      "metadata": {
        "colab": {
          "base_uri": "https://localhost:8080/",
          "height": 564
        },
        "id": "MAypONX6XaCd",
        "outputId": "c8ee6561-5e2a-4e00-8563-a542c985e5a2"
      },
      "execution_count": 14,
      "outputs": [
        {
          "output_type": "display_data",
          "data": {
            "text/plain": [
              "<Figure size 1200x600 with 1 Axes>"
            ],
            "image/png": "[encoded data removed]"
          },
          "metadata": {}
        }
      ]
    },
    {
      "cell_type": "markdown",
      "source": [
        "Grafik ini memberikan gambaran jelas tentang seberapa baik model dalam memprediksi harga saham dibandingkan dengan harga yang sebenarnya."
      ],
      "metadata": {
        "id": "x3g58umQXxP9"
      }
    },
    {
      "cell_type": "code",
      "source": [],
      "metadata": {
        "id": "fNylkpIAXxkI"
      },
      "execution_count": null,
      "outputs": []
    }
  ]
}